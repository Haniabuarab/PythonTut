{
  "nbformat": 4,
  "nbformat_minor": 0,
  "metadata": {
    "colab": {
      "provenance": [],
      "authorship_tag": "ABX9TyMdE3EIr296PtwZuGZ3xDRk",
      "include_colab_link": true
    },
    "kernelspec": {
      "name": "python3",
      "display_name": "Python 3"
    },
    "language_info": {
      "name": "python"
    }
  },
  "cells": [
    {
      "cell_type": "markdown",
      "metadata": {
        "id": "view-in-github",
        "colab_type": "text"
      },
      "source": [
        "<a href=\"https://colab.research.google.com/github/Haniabuarab/PythonTut/blob/main/lecture01.ipynb\" target=\"_parent\"><img src=\"https://colab.research.google.com/assets/colab-badge.svg\" alt=\"Open In Colab\"/></a>"
      ]
    },
    {
      "cell_type": "code",
      "execution_count": 6,
      "metadata": {
        "colab": {
          "base_uri": "https://localhost:8080/"
        },
        "id": "Pj7Kbn_CH4H_",
        "outputId": "af256ced-ebd5-444b-c5a7-f64e5e64cbdb"
      },
      "outputs": [
        {
          "output_type": "stream",
          "name": "stdout",
          "text": [
            "number if more than 0\n",
            "30\n"
          ]
        }
      ],
      "source": [
        "#print(\"hello\")\n",
        "\n",
        "number01 = 10\n",
        "number02 = 20\n",
        "\n",
        "\n",
        "if number01 >= 0:\n",
        "  print(\"number if more than 0\")\n",
        "\n",
        "total = number01+number02\n",
        "print(total)\n",
        "\n"
      ]
    }
  ]
}